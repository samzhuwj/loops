{
 "cells": [
  {
   "cell_type": "code",
   "execution_count": 21,
   "metadata": {},
   "outputs": [
    {
     "name": "stdout",
     "output_type": "stream",
     "text": [
      "banana\n",
      "apple\n",
      "orange\n",
      "passion fruit\n",
      "reached end of list\n"
     ]
    }
   ],
   "source": [
    "# 基本的 while 循环\n",
    "fruits = [\"banana\", \"apple\", \"orange\", \"passion fruit\"]  \n",
    "position = 0  \n",
    "while position < len(fruits):  \n",
    "    print(fruits[position])\n",
    "    position = position + 1\n",
    "print(\"reached end of list\") "
   ]
  },
  {
   "cell_type": "code",
   "execution_count": 22,
   "metadata": {},
   "outputs": [
    {
     "name": "stdout",
     "output_type": "stream",
     "text": [
      "banana\n",
      "apple\n",
      "orange\n",
      "passion fruit\n",
      "reached end of list\n"
     ]
    }
   ],
   "source": [
    "# while-else 循环\n",
    "fruits = [\"banana\", \"apple\", \"orange\", \"passion fruit\"]  \n",
    "position = 0  \n",
    "while position < len(fruits):  \n",
    "    print(fruits[position])\n",
    "    position = position + 1\n",
    "else:  \n",
    "    print(\"reached end of list\")"
   ]
  },
  {
   "cell_type": "code",
   "execution_count": 23,
   "metadata": {},
   "outputs": [
    {
     "name": "stdout",
     "output_type": "stream",
     "text": [
      "banana\n",
      "apple\n",
      "orange\n",
      "passion fruit\n",
      "reached end of list\n"
     ]
    }
   ],
   "source": [
    "# 无限 while 循环\n",
    "fruits = [\"banana\", \"apple\", \"orange\", \"passion fruit\"]  \n",
    "position = 0  \n",
    "while True:  \n",
    "    if position >= len(fruits):\n",
    "        break\n",
    "    print(fruits[position])\n",
    "    position = position + 1\n",
    "print(\"reached end of list\")  "
   ]
  },
  {
   "cell_type": "code",
   "execution_count": 24,
   "metadata": {},
   "outputs": [
    {
     "name": "stdout",
     "output_type": "stream",
     "text": [
      "banana\n",
      "apple\n",
      "orange\n",
      "passion fruit\n",
      "reached end of list\n"
     ]
    }
   ],
   "source": [
    "# for 循环\n",
    "fruits = [\"banana\", \"apple\", \"orange\", \"passion fruit\"]  \n",
    "for food in fruits:  \n",
    "    print(food)\n",
    "print(\"reached end of list\")  "
   ]
  },
  {
   "cell_type": "code",
   "execution_count": 25,
   "metadata": {},
   "outputs": [
    {
     "name": "stdout",
     "output_type": "stream",
     "text": [
      "banana\n",
      "apple\n",
      "orange\n",
      "passion fruit\n",
      "reached end of list\n"
     ]
    }
   ],
   "source": [
    "# for-else 循环\n",
    "fruits = [\"banana\", \"apple\", \"orange\", \"passion fruit\"]  \n",
    "for food in fruits:  \n",
    "    print(food)\n",
    "else:  \n",
    "    print(\"reached end of list\")"
   ]
  },
  {
   "cell_type": "code",
   "execution_count": 26,
   "metadata": {},
   "outputs": [
    {
     "name": "stdout",
     "output_type": "stream",
     "text": [
      "0\n",
      "1\n",
      "2\n"
     ]
    }
   ],
   "source": [
    "# for-in 循环\n",
    "for entry in range(0, 3):  \n",
    "    print(entry)"
   ]
  },
  {
   "cell_type": "code",
   "execution_count": 27,
   "metadata": {},
   "outputs": [
    {
     "name": "stdout",
     "output_type": "stream",
     "text": [
      "0\n",
      "1\n",
      "2\n"
     ]
    }
   ],
   "source": [
    "# 改进 for-in 循环\n",
    "entryRange = range(0, 3)  \n",
    "for entry in entryRange:  \n",
    "    print(entry)"
   ]
  },
  {
   "cell_type": "code",
   "execution_count": 28,
   "metadata": {},
   "outputs": [
    {
     "name": "stdout",
     "output_type": "stream",
     "text": [
      "0\n",
      "1\n",
      "2\n"
     ]
    }
   ],
   "source": [
    "# while 循环\n",
    "entryRange = range(0, 3)  \n",
    "index = 0  \n",
    "while index < len(entryRange):  \n",
    "    print(entryRange[index])\n",
    "    index = index + 1"
   ]
  },
  {
   "cell_type": "code",
   "execution_count": 29,
   "metadata": {},
   "outputs": [
    {
     "name": "stdout",
     "output_type": "stream",
     "text": [
      "0\n",
      "1\n",
      "2\n"
     ]
    }
   ],
   "source": [
    "# 改进 while 循环\n",
    "index = 0  \n",
    "while index < 3:  \n",
    "    print(index)\n",
    "    index = index + 1"
   ]
  },
  {
   "cell_type": "code",
   "execution_count": null,
   "metadata": {},
   "outputs": [],
   "source": []
  }
 ],
 "metadata": {
  "kernelspec": {
   "display_name": "Python 3",
   "language": "python",
   "name": "python3"
  },
  "language_info": {
   "codemirror_mode": {
    "name": "ipython",
    "version": 3
   },
   "file_extension": ".py",
   "mimetype": "text/x-python",
   "name": "python",
   "nbconvert_exporter": "python",
   "pygments_lexer": "ipython3",
   "version": "3.6.4"
  }
 },
 "nbformat": 4,
 "nbformat_minor": 2
}
